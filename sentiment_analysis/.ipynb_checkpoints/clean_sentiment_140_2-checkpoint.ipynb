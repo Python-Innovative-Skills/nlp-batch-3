{
 "cells": [
  {
   "cell_type": "code",
   "execution_count": 1,
   "id": "201abfb6",
   "metadata": {},
   "outputs": [],
   "source": [
    "import pandas as pd\n",
    "import matplotlib.pyplot as plt\n",
    "import seaborn as sns\n",
    "\n",
    "def load_data(file_path):\n",
    "    df = pd.read_csv(file_path, header=None, encoding='latin-1', names=['target','id','date','meta','user','text'])\n",
    "    df['sentiment'] = df['target'].apply(lambda x: 'positive' if x==4 else 'negative')\n",
    "    df.drop(columns=['id','date','meta','user'], inplace=True)\n",
    "    print(df.head())\n",
    "    return df"
   ]
  },
  {
   "cell_type": "code",
   "execution_count": 2,
   "id": "1a382f04",
   "metadata": {},
   "outputs": [
    {
     "name": "stdout",
     "output_type": "stream",
     "text": [
      "   target                                               text sentiment\n",
      "0       0  @switchfoot http://twitpic.com/2y1zl - Awww, t...  negative\n",
      "1       0  is upset that he can't update his Facebook by ...  negative\n",
      "2       0  @Kenichan I dived many times for the ball. Man...  negative\n",
      "3       0    my whole body feels itchy and like its on fire   negative\n",
      "4       0  @nationwideclass no, it's not behaving at all....  negative\n"
     ]
    }
   ],
   "source": [
    "file_path ='sentiment140.csv'\n",
    "\n",
    "df = load_data(file_path)\n",
    "\n",
    "df_subset = df.head(10)"
   ]
  },
  {
   "cell_type": "code",
   "execution_count": 3,
   "id": "9fa2710e",
   "metadata": {},
   "outputs": [
    {
     "name": "stderr",
     "output_type": "stream",
     "text": [
      "[nltk_data] Downloading package stopwords to\n",
      "[nltk_data]     C:\\Users\\Acer\\AppData\\Roaming\\nltk_data...\n",
      "[nltk_data]   Package stopwords is already up-to-date!\n"
     ]
    },
    {
     "data": {
      "text/plain": [
       "True"
      ]
     },
     "execution_count": 3,
     "metadata": {},
     "output_type": "execute_result"
    }
   ],
   "source": [
    "import nltk\n",
    "from nltk.corpus import stopwords\n",
    "from nltk.tokenize import word_tokenize\n",
    "import string\n",
    "\n",
    "# Download necessary NLTK data files\n",
    "#nltk.download('punkt')\n",
    "nltk.download('stopwords')"
   ]
  },
  {
   "cell_type": "code",
   "execution_count": 5,
   "id": "e645316f",
   "metadata": {},
   "outputs": [
    {
     "name": "stdout",
     "output_type": "stream",
     "text": [
      "Standard Stopwords:\n",
      "179\n"
     ]
    }
   ],
   "source": [
    "standard_stopwords = set(stopwords.words('english'))\n",
    "\n",
    "# Print the standard stopwords\n",
    "print(\"Standard Stopwords:\")\n",
    "print((sorted(standard_stopwords)))  # Sorted for better readability"
   ]
  },
  {
   "cell_type": "code",
   "execution_count": null,
   "id": "8e20c8bc",
   "metadata": {},
   "outputs": [],
   "source": [
    "#how to add custom stopword to the existing nltk stopwords"
   ]
  },
  {
   "cell_type": "code",
   "execution_count": 6,
   "id": "fb913f1d",
   "metadata": {},
   "outputs": [],
   "source": [
    "list_a = []\n",
    "\n",
    "for i in range(1,5):\n",
    "    if(i%2==0):\n",
    "        list_a.append(i)"
   ]
  },
  {
   "cell_type": "code",
   "execution_count": null,
   "id": "39c23e20",
   "metadata": {},
   "outputs": [],
   "source": [
    "list_c = [i for i in range(1,5) if(i%2==0)]"
   ]
  }
 ],
 "metadata": {
  "kernelspec": {
   "display_name": "Python 3 (ipykernel)",
   "language": "python",
   "name": "python3"
  },
  "language_info": {
   "codemirror_mode": {
    "name": "ipython",
    "version": 3
   },
   "file_extension": ".py",
   "mimetype": "text/x-python",
   "name": "python",
   "nbconvert_exporter": "python",
   "pygments_lexer": "ipython3",
   "version": "3.9.7"
  }
 },
 "nbformat": 4,
 "nbformat_minor": 5
}
