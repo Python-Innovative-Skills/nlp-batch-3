{
 "cells": [
  {
   "cell_type": "code",
   "execution_count": 1,
   "id": "13694a4d",
   "metadata": {},
   "outputs": [
    {
     "name": "stdout",
     "output_type": "stream",
     "text": [
      "Collecting mysql-connector-python\n",
      "  Downloading mysql_connector_python-9.0.0-cp39-cp39-win_amd64.whl (14.3 MB)\n",
      "Requirement already satisfied: pandas in c:\\users\\acer\\appdata\\roaming\\python\\python39\\site-packages (1.5.3)\n",
      "Requirement already satisfied: numpy>=1.20.3 in c:\\users\\acer\\anaconda3\\envs\\ml\\lib\\site-packages (from pandas) (1.22.4)\n",
      "Requirement already satisfied: pytz>=2020.1 in c:\\users\\acer\\anaconda3\\envs\\ml\\lib\\site-packages (from pandas) (2021.3)\n",
      "Requirement already satisfied: python-dateutil>=2.8.1 in c:\\users\\acer\\anaconda3\\envs\\ml\\lib\\site-packages (from pandas) (2.8.2)\n",
      "Requirement already satisfied: six>=1.5 in c:\\users\\acer\\anaconda3\\envs\\ml\\lib\\site-packages (from python-dateutil>=2.8.1->pandas) (1.16.0)\n",
      "Installing collected packages: mysql-connector-python\n",
      "Successfully installed mysql-connector-python-9.0.0\n"
     ]
    }
   ],
   "source": [
    "!pip install mysql-connector-python pandas"
   ]
  },
  {
   "cell_type": "code",
   "execution_count": 2,
   "id": "c39268ff",
   "metadata": {},
   "outputs": [],
   "source": [
    "import mysql.connector"
   ]
  },
  {
   "cell_type": "code",
   "execution_count": 3,
   "id": "6b13250f",
   "metadata": {},
   "outputs": [],
   "source": [
    "import pandas as pd"
   ]
  },
  {
   "cell_type": "code",
   "execution_count": 7,
   "id": "859d3011",
   "metadata": {},
   "outputs": [],
   "source": [
    "db_config = {'user':'root',\n",
    "            'password':'',\n",
    "            'host':'localhost',\n",
    "            'database':'portfoloio_sample'}"
   ]
  },
  {
   "cell_type": "code",
   "execution_count": 8,
   "id": "641de1cb",
   "metadata": {},
   "outputs": [],
   "source": [
    "conn= mysql.connector.connect(**db_config)"
   ]
  },
  {
   "cell_type": "code",
   "execution_count": 11,
   "id": "e8a05ec1",
   "metadata": {},
   "outputs": [],
   "source": [
    "query = \"SELECT * FROM about\""
   ]
  },
  {
   "cell_type": "code",
   "execution_count": 12,
   "id": "2bc1db10",
   "metadata": {},
   "outputs": [
    {
     "name": "stderr",
     "output_type": "stream",
     "text": [
      "C:\\Users\\Acer\\AppData\\Local\\Temp/ipykernel_23100/785092515.py:1: UserWarning: pandas only supports SQLAlchemy connectable (engine/connection) or database string URI or sqlite3 DBAPI2 connection. Other DBAPI2 objects are not tested. Please consider using SQLAlchemy.\n",
      "  df = pd.read_sql(query,conn)\n"
     ]
    }
   ],
   "source": [
    "df = pd.read_sql(query,conn)"
   ]
  },
  {
   "cell_type": "code",
   "execution_count": 13,
   "id": "6e373bc2",
   "metadata": {},
   "outputs": [
    {
     "data": {
      "text/html": [
       "<div>\n",
       "<style scoped>\n",
       "    .dataframe tbody tr th:only-of-type {\n",
       "        vertical-align: middle;\n",
       "    }\n",
       "\n",
       "    .dataframe tbody tr th {\n",
       "        vertical-align: top;\n",
       "    }\n",
       "\n",
       "    .dataframe thead th {\n",
       "        text-align: right;\n",
       "    }\n",
       "</style>\n",
       "<table border=\"1\" class=\"dataframe\">\n",
       "  <thead>\n",
       "    <tr style=\"text-align: right;\">\n",
       "      <th></th>\n",
       "      <th>id</th>\n",
       "      <th>name</th>\n",
       "      <th>email</th>\n",
       "      <th>phone</th>\n",
       "      <th>address</th>\n",
       "      <th>linkedin</th>\n",
       "      <th>facebook</th>\n",
       "      <th>github</th>\n",
       "      <th>research</th>\n",
       "      <th>image</th>\n",
       "      <th>image_data</th>\n",
       "      <th>description</th>\n",
       "    </tr>\n",
       "  </thead>\n",
       "  <tbody>\n",
       "    <tr>\n",
       "      <th>0</th>\n",
       "      <td>3</td>\n",
       "      <td>Salman Md Sultan</td>\n",
       "      <td>salmanmdsultan@gmail.com</td>\n",
       "      <td>456546453654</td>\n",
       "      <td>693, West Shewrapara, Mirpur</td>\n",
       "      <td>https://www.linkedin.com/in/salman-md-sultan-8...</td>\n",
       "      <td>https://web.facebook.com/salmanmd.sultan.1</td>\n",
       "      <td>https://github.com/Salman13201016</td>\n",
       "      <td>profile.com</td>\n",
       "      <td>uploads/a.jpg</td>\n",
       "      <td>E:xampp-----222\\tmpphp9722.tmp</td>\n",
       "      <td>I am experienced in leveraging web application...</td>\n",
       "    </tr>\n",
       "  </tbody>\n",
       "</table>\n",
       "</div>"
      ],
      "text/plain": [
       "   id              name                     email         phone  \\\n",
       "0   3  Salman Md Sultan  salmanmdsultan@gmail.com  456546453654   \n",
       "\n",
       "                        address  \\\n",
       "0  693, West Shewrapara, Mirpur   \n",
       "\n",
       "                                            linkedin  \\\n",
       "0  https://www.linkedin.com/in/salman-md-sultan-8...   \n",
       "\n",
       "                                     facebook  \\\n",
       "0  https://web.facebook.com/salmanmd.sultan.1   \n",
       "\n",
       "                              github     research          image  \\\n",
       "0  https://github.com/Salman13201016  profile.com  uploads/a.jpg   \n",
       "\n",
       "                       image_data  \\\n",
       "0  E:xampp-----222\\tmpphp9722.tmp   \n",
       "\n",
       "                                         description  \n",
       "0  I am experienced in leveraging web application...  "
      ]
     },
     "execution_count": 13,
     "metadata": {},
     "output_type": "execute_result"
    }
   ],
   "source": [
    "df"
   ]
  },
  {
   "cell_type": "code",
   "execution_count": null,
   "id": "3885961a",
   "metadata": {},
   "outputs": [],
   "source": []
  }
 ],
 "metadata": {
  "kernelspec": {
   "display_name": "Python 3 (ipykernel)",
   "language": "python",
   "name": "python3"
  },
  "language_info": {
   "codemirror_mode": {
    "name": "ipython",
    "version": 3
   },
   "file_extension": ".py",
   "mimetype": "text/x-python",
   "name": "python",
   "nbconvert_exporter": "python",
   "pygments_lexer": "ipython3",
   "version": "3.9.7"
  }
 },
 "nbformat": 4,
 "nbformat_minor": 5
}
