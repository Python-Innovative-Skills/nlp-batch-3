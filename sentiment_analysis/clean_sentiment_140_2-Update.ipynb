{
 "cells": [
  {
   "cell_type": "code",
   "execution_count": 1,
   "id": "71955da8",
   "metadata": {},
   "outputs": [],
   "source": [
    "import pandas as pd\n",
    "import matplotlib.pyplot as plt\n",
    "import seaborn as sns\n",
    "\n",
    "def load_data(file_path):\n",
    "    df = pd.read_csv(file_path, header=None, encoding='latin-1', names=['target','id','date','meta','user','text'])\n",
    "    df['sentiment'] = df['target'].apply(lambda x: 'positive' if x==4 else 'negative')\n",
    "    df.drop(columns=['id','date','meta','user'], inplace=True)\n",
    "    print(df.head())\n",
    "    return df"
   ]
  },
  {
   "cell_type": "code",
   "execution_count": 2,
   "id": "f1bfc61b",
   "metadata": {},
   "outputs": [
    {
     "name": "stdout",
     "output_type": "stream",
     "text": [
      "   target                                               text sentiment\n",
      "0       0  @switchfoot http://twitpic.com/2y1zl - Awww, t...  negative\n",
      "1       0  is upset that he can't update his Facebook by ...  negative\n",
      "2       0  @Kenichan I dived many times for the ball. Man...  negative\n",
      "3       0    my whole body feels itchy and like its on fire   negative\n",
      "4       0  @nationwideclass no, it's not behaving at all....  negative\n"
     ]
    }
   ],
   "source": [
    "file_path ='sentiment140.csv'\n",
    "\n",
    "df = load_data(file_path)\n",
    "\n",
    "df_subset = df.head(10)"
   ]
  },
  {
   "cell_type": "code",
   "execution_count": 3,
   "id": "1b7e2047",
   "metadata": {},
   "outputs": [
    {
     "name": "stderr",
     "output_type": "stream",
     "text": [
      "[nltk_data] Downloading package stopwords to\n",
      "[nltk_data]     C:\\Users\\Acer\\AppData\\Roaming\\nltk_data...\n",
      "[nltk_data]   Package stopwords is already up-to-date!\n"
     ]
    },
    {
     "data": {
      "text/plain": [
       "True"
      ]
     },
     "execution_count": 3,
     "metadata": {},
     "output_type": "execute_result"
    }
   ],
   "source": [
    "import nltk\n",
    "from nltk.corpus import stopwords\n",
    "from nltk.tokenize import word_tokenize\n",
    "import string\n",
    "\n",
    "# Download necessary NLTK data files\n",
    "#nltk.download('punkt')\n",
    "nltk.download('stopwords')"
   ]
  },
  {
   "cell_type": "code",
   "execution_count": 4,
   "id": "6ee322d7",
   "metadata": {},
   "outputs": [
    {
     "name": "stdout",
     "output_type": "stream",
     "text": [
      "Standard Stopwords:\n",
      "['a', 'about', 'above', 'after', 'again', 'against', 'ain', 'all', 'am', 'an', 'and', 'any', 'are', 'aren', \"aren't\", 'as', 'at', 'be', 'because', 'been', 'before', 'being', 'below', 'between', 'both', 'but', 'by', 'can', 'couldn', \"couldn't\", 'd', 'did', 'didn', \"didn't\", 'do', 'does', 'doesn', \"doesn't\", 'doing', 'don', \"don't\", 'down', 'during', 'each', 'few', 'for', 'from', 'further', 'had', 'hadn', \"hadn't\", 'has', 'hasn', \"hasn't\", 'have', 'haven', \"haven't\", 'having', 'he', 'her', 'here', 'hers', 'herself', 'him', 'himself', 'his', 'how', 'i', 'if', 'in', 'into', 'is', 'isn', \"isn't\", 'it', \"it's\", 'its', 'itself', 'just', 'll', 'm', 'ma', 'me', 'mightn', \"mightn't\", 'more', 'most', 'mustn', \"mustn't\", 'my', 'myself', 'needn', \"needn't\", 'no', 'nor', 'not', 'now', 'o', 'of', 'off', 'on', 'once', 'only', 'or', 'other', 'our', 'ours', 'ourselves', 'out', 'over', 'own', 're', 's', 'same', 'shan', \"shan't\", 'she', \"she's\", 'should', \"should've\", 'shouldn', \"shouldn't\", 'so', 'some', 'such', 't', 'than', 'that', \"that'll\", 'the', 'their', 'theirs', 'them', 'themselves', 'then', 'there', 'these', 'they', 'this', 'those', 'through', 'to', 'too', 'under', 'until', 'up', 've', 'very', 'was', 'wasn', \"wasn't\", 'we', 'were', 'weren', \"weren't\", 'what', 'when', 'where', 'which', 'while', 'who', 'whom', 'why', 'will', 'with', 'won', \"won't\", 'wouldn', \"wouldn't\", 'y', 'you', \"you'd\", \"you'll\", \"you're\", \"you've\", 'your', 'yours', 'yourself', 'yourselves']\n"
     ]
    }
   ],
   "source": [
    "standard_stopwords = set(stopwords.words('english'))\n",
    "\n",
    "# Print the standard stopwords\n",
    "print(\"Standard Stopwords:\")\n",
    "print((sorted(standard_stopwords)))  # Sorted for better readability"
   ]
  },
  {
   "cell_type": "code",
   "execution_count": 5,
   "id": "f8404c98",
   "metadata": {},
   "outputs": [],
   "source": [
    "def clean_prep_text(text):\n",
    "    # Convert to lowercase\n",
    "    text = text.lower()\n",
    "    #print(\"lowercase: \",text)\n",
    "    # Remove punctuation\n",
    "    text = text.translate(str.maketrans('', '', string.punctuation))\n",
    "    #print(\"Remove Puncuation: \",text)\n",
    "    # Tokenize the text\n",
    "    tokens = word_tokenize(text)\n",
    "    # Remove stopwords\n",
    "    stop_words = set(stopwords.words('english'))\n",
    "    #print(\"Remove stopwords: \",text)\n",
    "    tokens = [word for word in tokens if word not in stop_words]\n",
    "    return ' '.join(tokens)\n",
    "    "
   ]
  },
  {
   "cell_type": "code",
   "execution_count": 6,
   "id": "2d6d49f9",
   "metadata": {},
   "outputs": [
    {
     "name": "stderr",
     "output_type": "stream",
     "text": [
      "C:\\Users\\Acer\\AppData\\Local\\Temp/ipykernel_16468/933771824.py:1: SettingWithCopyWarning: \n",
      "A value is trying to be set on a copy of a slice from a DataFrame.\n",
      "Try using .loc[row_indexer,col_indexer] = value instead\n",
      "\n",
      "See the caveats in the documentation: https://pandas.pydata.org/pandas-docs/stable/user_guide/indexing.html#returning-a-view-versus-a-copy\n",
      "  df_subset['cleaned_text'] = df_subset['text'].apply(clean_prep_text)\n"
     ]
    }
   ],
   "source": [
    "df_subset['cleaned_text'] = df_subset['text'].apply(clean_prep_text)\n"
   ]
  },
  {
   "cell_type": "code",
   "execution_count": null,
   "id": "64c63856",
   "metadata": {},
   "outputs": [],
   "source": [
    "#how to add custom stopword to the existing nltk stopwords"
   ]
  },
  {
   "cell_type": "code",
   "execution_count": 7,
   "id": "c56335c2",
   "metadata": {},
   "outputs": [],
   "source": [
    "from sklearn.model_selection import train_test_split"
   ]
  },
  {
   "cell_type": "code",
   "execution_count": 8,
   "id": "e6c212ac",
   "metadata": {},
   "outputs": [],
   "source": [
    "xs = df_subset['cleaned_text'].tolist()  # List of input texts\n",
    "ys = df_subset['sentiment'].tolist()          # List of labels"
   ]
  },
  {
   "cell_type": "code",
   "execution_count": 9,
   "id": "48779dd6",
   "metadata": {},
   "outputs": [],
   "source": [
    "X_train, X_test, y_train, y_test = train_test_split(xs, ys, test_size=0.25, random_state=0)"
   ]
  },
  {
   "cell_type": "code",
   "execution_count": 10,
   "id": "671f745b",
   "metadata": {},
   "outputs": [
    {
     "name": "stdout",
     "output_type": "stream",
     "text": [
      "X_train shape: 7, y_train shape: 7\n",
      "X_test shape: 3, y_test shape: 3\n"
     ]
    }
   ],
   "source": [
    "print(f'X_train shape: {len(X_train)}, y_train shape: {len(y_train)}')\n",
    "print(f'X_test shape: {len(X_test)}, y_test shape: {len(y_test)}')"
   ]
  },
  {
   "cell_type": "code",
   "execution_count": 11,
   "id": "bee1a76a",
   "metadata": {},
   "outputs": [],
   "source": [
    "from sklearn.feature_extraction.text import TfidfVectorizer"
   ]
  },
  {
   "cell_type": "code",
   "execution_count": 12,
   "id": "72c819ec",
   "metadata": {},
   "outputs": [],
   "source": [
    "tfidf = TfidfVectorizer(ngram_range=(1,3),use_idf=True,tokenizer=lambda x: x.split()) \n",
    "Xtrain_tf = tfidf.fit_transform(X_train)"
   ]
  },
  {
   "cell_type": "code",
   "execution_count": 16,
   "id": "c09f8947",
   "metadata": {},
   "outputs": [
    {
     "name": "stdout",
     "output_type": "stream",
     "text": [
      "[[0.         0.         0.         0.         0.         0.\n",
      "  0.         0.         0.         0.         0.         0.\n",
      "  0.         0.         0.         0.         0.         0.\n",
      "  0.         0.         0.         0.         0.         0.\n",
      "  0.         0.         0.         0.         0.         0.\n",
      "  0.         0.         0.         0.         0.         0.\n",
      "  0.         0.         0.         0.         0.         0.\n",
      "  0.         0.         0.         0.         0.         0.\n",
      "  0.         0.         0.         0.         0.         0.\n",
      "  0.         0.         0.         0.         0.         0.\n",
      "  0.         0.         0.         0.         0.         0.\n",
      "  0.         0.         0.         0.         0.         0.\n",
      "  0.         0.         0.         0.40824829 0.         0.\n",
      "  0.40824829 0.40824829 0.         0.         0.         0.\n",
      "  0.         0.         0.         0.         0.         0.\n",
      "  0.         0.         0.         0.         0.         0.\n",
      "  0.         0.         0.         0.         0.         0.\n",
      "  0.         0.         0.         0.         0.         0.\n",
      "  0.         0.         0.         0.         0.         0.\n",
      "  0.40824829 0.40824829 0.40824829 0.         0.         0.\n",
      "  0.         0.         0.         0.         0.         0.\n",
      "  0.         0.         0.         0.        ]\n",
      " [0.17407766 0.17407766 0.         0.         0.         0.\n",
      "  0.         0.         0.         0.         0.17407766 0.\n",
      "  0.         0.         0.         0.         0.         0.17407766\n",
      "  0.17407766 0.17407766 0.         0.         0.         0.\n",
      "  0.17407766 0.17407766 0.17407766 0.         0.         0.\n",
      "  0.         0.17407766 0.17407766 0.17407766 0.         0.\n",
      "  0.         0.         0.         0.         0.         0.\n",
      "  0.         0.         0.         0.         0.         0.\n",
      "  0.         0.         0.         0.         0.         0.\n",
      "  0.         0.         0.         0.         0.         0.\n",
      "  0.         0.         0.         0.         0.         0.\n",
      "  0.         0.         0.         0.         0.         0.\n",
      "  0.17407766 0.17407766 0.17407766 0.         0.         0.\n",
      "  0.         0.         0.         0.         0.         0.17407766\n",
      "  0.17407766 0.17407766 0.17407766 0.17407766 0.17407766 0.\n",
      "  0.         0.         0.         0.         0.         0.\n",
      "  0.         0.         0.17407766 0.17407766 0.17407766 0.\n",
      "  0.         0.         0.         0.         0.         0.\n",
      "  0.         0.         0.         0.17407766 0.17407766 0.17407766\n",
      "  0.         0.         0.         0.17407766 0.17407766 0.17407766\n",
      "  0.17407766 0.17407766 0.17407766 0.         0.         0.\n",
      "  0.         0.         0.         0.        ]\n",
      " [0.         0.         0.         0.         0.         0.\n",
      "  0.         0.         0.         0.         0.         0.\n",
      "  0.         0.         0.         0.         0.         0.\n",
      "  0.         0.         0.         0.         0.         0.\n",
      "  0.         0.         0.         0.         0.         0.\n",
      "  0.         0.         0.         0.         0.         0.\n",
      "  0.         0.         0.         0.         0.         0.\n",
      "  0.         0.         0.         0.         0.         0.\n",
      "  0.         0.         0.         0.57735027 0.         0.\n",
      "  0.         0.         0.         0.         0.         0.\n",
      "  0.         0.         0.         0.         0.         0.\n",
      "  0.         0.         0.         0.         0.         0.\n",
      "  0.         0.         0.         0.         0.57735027 0.57735027\n",
      "  0.         0.         0.         0.         0.         0.\n",
      "  0.         0.         0.         0.         0.         0.\n",
      "  0.         0.         0.         0.         0.         0.\n",
      "  0.         0.         0.         0.         0.         0.\n",
      "  0.         0.         0.         0.         0.         0.\n",
      "  0.         0.         0.         0.         0.         0.\n",
      "  0.         0.         0.         0.         0.         0.\n",
      "  0.         0.         0.         0.         0.         0.\n",
      "  0.         0.         0.         0.        ]\n",
      " [0.         0.         0.         0.         0.         0.31234752\n",
      "  0.15617376 0.15617376 0.15617376 0.15617376 0.         0.\n",
      "  0.         0.         0.         0.         0.         0.\n",
      "  0.         0.         0.         0.         0.         0.\n",
      "  0.         0.         0.         0.         0.         0.\n",
      "  0.         0.         0.         0.         0.         0.\n",
      "  0.         0.15617376 0.15617376 0.15617376 0.         0.\n",
      "  0.         0.         0.15617376 0.15617376 0.15617376 0.15617376\n",
      "  0.         0.         0.         0.         0.15617376 0.15617376\n",
      "  0.15617376 0.         0.         0.         0.         0.\n",
      "  0.         0.         0.         0.15617376 0.15617376 0.15617376\n",
      "  0.15617376 0.15617376 0.15617376 0.15617376 0.15617376 0.15617376\n",
      "  0.         0.         0.         0.         0.         0.\n",
      "  0.         0.         0.15617376 0.15617376 0.15617376 0.\n",
      "  0.         0.         0.         0.         0.         0.15617376\n",
      "  0.15617376 0.15617376 0.         0.         0.         0.\n",
      "  0.         0.         0.         0.         0.         0.15617376\n",
      "  0.15617376 0.         0.         0.         0.         0.\n",
      "  0.15617376 0.15617376 0.15617376 0.         0.         0.\n",
      "  0.         0.         0.         0.         0.         0.\n",
      "  0.         0.         0.         0.         0.         0.\n",
      "  0.         0.15617376 0.15617376 0.15617376]\n",
      " [0.         0.         0.         0.         0.         0.\n",
      "  0.         0.         0.         0.         0.         0.26091753\n",
      "  0.26091753 0.26091753 0.         0.         0.         0.\n",
      "  0.         0.         0.         0.         0.         0.\n",
      "  0.         0.         0.         0.         0.         0.\n",
      "  0.         0.         0.         0.         0.26091753 0.26091753\n",
      "  0.26091753 0.         0.         0.         0.26091753 0.\n",
      "  0.         0.         0.         0.         0.         0.\n",
      "  0.         0.         0.         0.         0.         0.\n",
      "  0.         0.26091753 0.26091753 0.26091753 0.         0.\n",
      "  0.         0.26091753 0.26091753 0.         0.         0.\n",
      "  0.         0.         0.         0.         0.         0.\n",
      "  0.         0.         0.         0.         0.         0.\n",
      "  0.         0.         0.         0.         0.         0.\n",
      "  0.         0.         0.         0.         0.         0.\n",
      "  0.         0.         0.         0.         0.         0.\n",
      "  0.         0.         0.         0.         0.         0.\n",
      "  0.         0.         0.         0.         0.         0.\n",
      "  0.         0.         0.         0.         0.         0.\n",
      "  0.         0.         0.         0.         0.         0.\n",
      "  0.         0.         0.         0.21658396 0.26091753 0.26091753\n",
      "  0.         0.         0.         0.        ]\n",
      " [0.         0.         0.18257419 0.18257419 0.18257419 0.\n",
      "  0.         0.         0.         0.         0.         0.\n",
      "  0.         0.         0.18257419 0.18257419 0.18257419 0.\n",
      "  0.         0.         0.18257419 0.18257419 0.18257419 0.\n",
      "  0.         0.         0.         0.18257419 0.18257419 0.18257419\n",
      "  0.18257419 0.         0.         0.         0.         0.\n",
      "  0.         0.         0.         0.         0.         0.18257419\n",
      "  0.18257419 0.18257419 0.         0.         0.         0.\n",
      "  0.18257419 0.18257419 0.18257419 0.         0.         0.\n",
      "  0.         0.         0.         0.         0.         0.\n",
      "  0.         0.         0.         0.         0.         0.\n",
      "  0.         0.         0.         0.         0.         0.\n",
      "  0.         0.         0.         0.         0.         0.\n",
      "  0.         0.         0.         0.         0.         0.\n",
      "  0.         0.         0.         0.         0.         0.\n",
      "  0.         0.         0.18257419 0.18257419 0.18257419 0.18257419\n",
      "  0.18257419 0.18257419 0.         0.         0.         0.\n",
      "  0.         0.18257419 0.18257419 0.18257419 0.18257419 0.18257419\n",
      "  0.         0.         0.         0.         0.         0.\n",
      "  0.         0.         0.         0.         0.         0.\n",
      "  0.         0.         0.         0.         0.         0.\n",
      "  0.         0.         0.         0.        ]\n",
      " [0.         0.         0.         0.         0.         0.\n",
      "  0.         0.         0.         0.         0.         0.\n",
      "  0.         0.         0.         0.         0.         0.\n",
      "  0.         0.         0.         0.         0.         0.41925708\n",
      "  0.         0.         0.         0.         0.         0.\n",
      "  0.         0.         0.         0.         0.         0.\n",
      "  0.         0.         0.         0.         0.         0.\n",
      "  0.         0.         0.         0.         0.         0.\n",
      "  0.         0.         0.         0.         0.         0.\n",
      "  0.         0.         0.         0.         0.41925708 0.41925708\n",
      "  0.41925708 0.         0.         0.         0.         0.\n",
      "  0.         0.         0.         0.         0.         0.\n",
      "  0.         0.         0.         0.         0.         0.\n",
      "  0.         0.         0.         0.         0.         0.\n",
      "  0.         0.         0.         0.         0.         0.\n",
      "  0.         0.         0.         0.         0.         0.\n",
      "  0.         0.         0.         0.         0.         0.\n",
      "  0.         0.         0.         0.         0.         0.\n",
      "  0.         0.         0.         0.         0.         0.\n",
      "  0.         0.         0.         0.         0.         0.\n",
      "  0.         0.         0.         0.34801938 0.         0.\n",
      "  0.41925708 0.         0.         0.        ]]\n"
     ]
    }
   ],
   "source": [
    "print((Xtrain_tf))"
   ]
  },
  {
   "cell_type": "code",
   "execution_count": 62,
   "id": "ac201fff",
   "metadata": {},
   "outputs": [
    {
     "name": "stdout",
     "output_type": "stream",
     "text": [
      "['negative', 'negative', 'negative', 'negative', 'negative', 'negative', 'negative']\n"
     ]
    }
   ],
   "source": [
    "print(y_train)"
   ]
  },
  {
   "cell_type": "code",
   "execution_count": 29,
   "id": "e63aefc5",
   "metadata": {},
   "outputs": [],
   "source": [
    "from sklearn.feature_extraction.text import CountVectorizer"
   ]
  },
  {
   "cell_type": "code",
   "execution_count": 30,
   "id": "bd8233b7",
   "metadata": {},
   "outputs": [],
   "source": [
    "vectorizer = CountVectorizer()\n",
    "cv = vectorizer.fit_transform(X_train)"
   ]
  },
  {
   "cell_type": "code",
   "execution_count": 31,
   "id": "70bc7269",
   "metadata": {},
   "outputs": [
    {
     "name": "stdout",
     "output_type": "stream",
     "text": [
      "  (0, 44)\t1\n",
      "  (0, 31)\t1\n",
      "  (0, 29)\t1\n",
      "  (1, 46)\t1\n",
      "  (1, 6)\t1\n",
      "  (1, 45)\t1\n",
      "  (1, 12)\t1\n",
      "  (1, 38)\t1\n",
      "  (1, 28)\t1\n",
      "  (1, 9)\t1\n",
      "  (1, 33)\t1\n",
      "  (1, 34)\t1\n",
      "  (1, 43)\t1\n",
      "  (1, 0)\t1\n",
      "  (1, 3)\t1\n",
      "  (2, 30)\t1\n",
      "  (2, 20)\t1\n",
      "  (3, 26)\t1\n",
      "  (3, 17)\t1\n",
      "  (3, 27)\t1\n",
      "  (3, 42)\t1\n",
      "  (3, 35)\t1\n",
      "  (3, 48)\t1\n",
      "  (3, 32)\t1\n",
      "  (3, 2)\t2\n",
      "  (3, 25)\t1\n",
      "  (3, 21)\t1\n",
      "  (3, 14)\t1\n",
      "  (3, 39)\t1\n",
      "  (3, 18)\t1\n",
      "  (4, 47)\t1\n",
      "  (4, 4)\t1\n",
      "  (4, 13)\t1\n",
      "  (4, 22)\t1\n",
      "  (4, 24)\t1\n",
      "  (4, 15)\t1\n",
      "  (5, 37)\t1\n",
      "  (5, 19)\t1\n",
      "  (5, 1)\t1\n",
      "  (5, 40)\t1\n",
      "  (5, 5)\t1\n",
      "  (5, 36)\t1\n",
      "  (5, 16)\t1\n",
      "  (5, 10)\t1\n",
      "  (5, 7)\t1\n",
      "  (5, 41)\t1\n",
      "  (5, 11)\t1\n",
      "  (6, 47)\t1\n",
      "  (6, 23)\t1\n",
      "  (6, 8)\t1\n"
     ]
    }
   ],
   "source": [
    "print(cv)"
   ]
  },
  {
   "cell_type": "code",
   "execution_count": 32,
   "id": "8557729a",
   "metadata": {},
   "outputs": [
    {
     "name": "stdout",
     "output_type": "stream",
     "text": [
      "[[0 0 0 0 0 0 0 0 0 0 0 0 0 0 0 0 0 0 0 0 0 0 0 0 0 0 0 0 0 1 0 1 0 0 0 0\n",
      "  0 0 0 0 0 0 0 0 1 0 0 0 0]\n",
      " [1 0 0 1 0 0 1 0 0 1 0 0 1 0 0 0 0 0 0 0 0 0 0 0 0 0 0 0 1 0 0 0 0 1 1 0\n",
      "  0 0 1 0 0 0 0 1 0 1 1 0 0]\n",
      " [0 0 0 0 0 0 0 0 0 0 0 0 0 0 0 0 0 0 0 0 1 0 0 0 0 0 0 0 0 0 1 0 0 0 0 0\n",
      "  0 0 0 0 0 0 0 0 0 0 0 0 0]\n",
      " [0 0 2 0 0 0 0 0 0 0 0 0 0 0 1 0 0 1 1 0 0 1 0 0 0 1 1 1 0 0 0 0 1 0 0 1\n",
      "  0 0 0 1 0 0 1 0 0 0 0 0 1]\n",
      " [0 0 0 0 1 0 0 0 0 0 0 0 0 1 0 1 0 0 0 0 0 0 1 0 1 0 0 0 0 0 0 0 0 0 0 0\n",
      "  0 0 0 0 0 0 0 0 0 0 0 1 0]\n",
      " [0 1 0 0 0 1 0 1 0 0 1 1 0 0 0 0 1 0 0 1 0 0 0 0 0 0 0 0 0 0 0 0 0 0 0 0\n",
      "  1 1 0 0 1 1 0 0 0 0 0 0 0]\n",
      " [0 0 0 0 0 0 0 0 1 0 0 0 0 0 0 0 0 0 0 0 0 0 0 1 0 0 0 0 0 0 0 0 0 0 0 0\n",
      "  0 0 0 0 0 0 0 0 0 0 0 1 0]]\n",
      "['also' 'awww' 'bit' 'blah' 'body' 'bummer' 'cant' 'carr' 'crew' 'cry'\n",
      " 'david' 'day' 'facebook' 'feels' 'fine' 'fire' 'got' 'hey' 'hows'\n",
      " 'httptwitpiccom2y1zl' 'hug' 'im' 'itchy' 'kwesidei' 'like' 'lol'\n",
      " 'loltrish' 'long' 'might' 'muera' 'need' 'que' 'rains' 'result' 'school'\n",
      " 'see' 'shoulda' 'switchfoot' 'texting' 'thanks' 'thats' 'third' 'time'\n",
      " 'today' 'twittera' 'update' 'upset' 'whole' 'yes']\n"
     ]
    }
   ],
   "source": [
    "\n",
    "# print(cv)\n",
    "print(cv.toarray())  # This gives you the dense representation\n",
    "print(vectorizer.get_feature_names_out())  # This shows the feature names"
   ]
  },
  {
   "cell_type": "code",
   "execution_count": null,
   "id": "8c25fd4d",
   "metadata": {},
   "outputs": [],
   "source": [
    "twittera que muera"
   ]
  },
  {
   "cell_type": "code",
   "execution_count": 12,
   "id": "41a93e05",
   "metadata": {},
   "outputs": [],
   "source": [
    "from sklearn.preprocessing import OneHotEncoder"
   ]
  },
  {
   "cell_type": "code",
   "execution_count": 13,
   "id": "cc36359d",
   "metadata": {},
   "outputs": [
    {
     "name": "stdout",
     "output_type": "stream",
     "text": [
      "['negative', 'negative', 'negative', 'negative', 'negative', 'negative', 'negative']\n"
     ]
    }
   ],
   "source": [
    "print(y_train)"
   ]
  },
  {
   "cell_type": "code",
   "execution_count": 24,
   "id": "ed3ad936",
   "metadata": {},
   "outputs": [],
   "source": [
    "encoder = OneHotEncoder(sparse=False) #True = Sparse Matrix #False = Dense Matrix (Array)\n",
    "import numpy as np"
   ]
  },
  {
   "cell_type": "code",
   "execution_count": 21,
   "id": "63d96d06",
   "metadata": {},
   "outputs": [
    {
     "name": "stdout",
     "output_type": "stream",
     "text": [
      "OneHotEncoder()\n"
     ]
    }
   ],
   "source": [
    "print(encoder)"
   ]
  },
  {
   "cell_type": "code",
   "execution_count": 25,
   "id": "127347d7",
   "metadata": {},
   "outputs": [],
   "source": [
    "y_array = np.array(y_train)"
   ]
  },
  {
   "cell_type": "code",
   "execution_count": 26,
   "id": "422ec02b",
   "metadata": {},
   "outputs": [],
   "source": [
    "one_hot_encoded_sparse = encoder.fit_transform(y_array.reshape(-1,1))"
   ]
  },
  {
   "cell_type": "code",
   "execution_count": 27,
   "id": "f60da608",
   "metadata": {},
   "outputs": [
    {
     "name": "stdout",
     "output_type": "stream",
     "text": [
      "[[1.]\n",
      " [1.]\n",
      " [1.]\n",
      " [1.]\n",
      " [1.]\n",
      " [1.]\n",
      " [1.]]\n"
     ]
    }
   ],
   "source": [
    "print(one_hot_encoded_sparse)"
   ]
  },
  {
   "cell_type": "code",
   "execution_count": null,
   "id": "602dff47",
   "metadata": {},
   "outputs": [],
   "source": []
  }
 ],
 "metadata": {
  "kernelspec": {
   "display_name": "Python 3 (ipykernel)",
   "language": "python",
   "name": "python3"
  },
  "language_info": {
   "codemirror_mode": {
    "name": "ipython",
    "version": 3
   },
   "file_extension": ".py",
   "mimetype": "text/x-python",
   "name": "python",
   "nbconvert_exporter": "python",
   "pygments_lexer": "ipython3",
   "version": "3.9.7"
  }
 },
 "nbformat": 4,
 "nbformat_minor": 5
}
