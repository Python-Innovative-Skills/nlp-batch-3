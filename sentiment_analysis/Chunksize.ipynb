{
 "cells": [
  {
   "cell_type": "code",
   "execution_count": 2,
   "id": "0c41e413",
   "metadata": {},
   "outputs": [],
   "source": [
    "import pandas as pd\n",
    "import matplotlib.pyplot as plt\n",
    "import seaborn as sns\n",
    "\n",
    "def load_data(file_path):\n",
    "    df = pd.read_csv(file_path, header=None, encoding='latin-1', names=['target','id','date','meta','user','text'])\n",
    "    df['sentiment'] = df['target'].apply(lambda x: 'positive' if x==4 else 'negative')\n",
    "    df.drop(columns=['id','date','meta','user'], inplace=True)\n",
    "    print(df.head())\n",
    "    return df"
   ]
  },
  {
   "cell_type": "code",
   "execution_count": 3,
   "id": "917cb27b",
   "metadata": {},
   "outputs": [
    {
     "name": "stdout",
     "output_type": "stream",
     "text": [
      "   target                                               text sentiment\n",
      "0       0  @switchfoot http://twitpic.com/2y1zl - Awww, t...  negative\n",
      "1       0  is upset that he can't update his Facebook by ...  negative\n",
      "2       0  @Kenichan I dived many times for the ball. Man...  negative\n",
      "3       0    my whole body feels itchy and like its on fire   negative\n",
      "4       0  @nationwideclass no, it's not behaving at all....  negative\n"
     ]
    }
   ],
   "source": [
    "file_path ='sentiment140.csv'\n",
    "\n",
    "df = load_data(file_path)"
   ]
  },
  {
   "cell_type": "code",
   "execution_count": null,
   "id": "b3cba4b0",
   "metadata": {},
   "outputs": [],
   "source": []
  }
 ],
 "metadata": {
  "kernelspec": {
   "display_name": "Python 3 (ipykernel)",
   "language": "python",
   "name": "python3"
  },
  "language_info": {
   "codemirror_mode": {
    "name": "ipython",
    "version": 3
   },
   "file_extension": ".py",
   "mimetype": "text/x-python",
   "name": "python",
   "nbconvert_exporter": "python",
   "pygments_lexer": "ipython3",
   "version": "3.9.7"
  }
 },
 "nbformat": 4,
 "nbformat_minor": 5
}
